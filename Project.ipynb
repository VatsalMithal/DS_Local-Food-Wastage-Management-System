{
 "cells": [
  {
   "cell_type": "code",
   "execution_count": 11,
   "metadata": {},
   "outputs": [],
   "source": [
    "import sqlite3\n",
    "import pandas as pd # type: ignore"
   ]
  },
  {
   "cell_type": "code",
   "execution_count": 12,
   "metadata": {},
   "outputs": [],
   "source": [
    "providers_df = pd.read_csv(r\"D:\\Guvi Project 1\\providers_data.csv\")\n",
    "receivers_df = pd.read_csv(r\"D:\\Guvi Project 1\\receivers_data.csv\")\n",
    "food_listings_df = pd.read_csv(r\"D:\\Guvi Project 1\\food_listings_data.csv\")\n",
    "claims_df = pd.read_csv(r\"D:\\Guvi Project 1\\claims_data.csv\")"
   ]
  },
  {
   "cell_type": "code",
   "execution_count": 15,
   "metadata": {},
   "outputs": [
    {
     "name": "stdout",
     "output_type": "stream",
     "text": [
      "Providers Data:\n"
     ]
    },
    {
     "data": {
      "text/html": [
       "<div>\n",
       "<style scoped>\n",
       "    .dataframe tbody tr th:only-of-type {\n",
       "        vertical-align: middle;\n",
       "    }\n",
       "\n",
       "    .dataframe tbody tr th {\n",
       "        vertical-align: top;\n",
       "    }\n",
       "\n",
       "    .dataframe thead th {\n",
       "        text-align: right;\n",
       "    }\n",
       "</style>\n",
       "<table border=\"1\" class=\"dataframe\">\n",
       "  <thead>\n",
       "    <tr style=\"text-align: right;\">\n",
       "      <th></th>\n",
       "      <th>Provider_ID</th>\n",
       "      <th>Name</th>\n",
       "      <th>Type</th>\n",
       "      <th>Address</th>\n",
       "      <th>City</th>\n",
       "      <th>Contact</th>\n",
       "    </tr>\n",
       "  </thead>\n",
       "  <tbody>\n",
       "    <tr>\n",
       "      <th>0</th>\n",
       "      <td>1</td>\n",
       "      <td>Gonzales-Cochran</td>\n",
       "      <td>Supermarket</td>\n",
       "      <td>74347 Christopher Extensions\\nAndreamouth, OK ...</td>\n",
       "      <td>New Jessica</td>\n",
       "      <td>+1-600-220-0480</td>\n",
       "    </tr>\n",
       "    <tr>\n",
       "      <th>1</th>\n",
       "      <td>2</td>\n",
       "      <td>Nielsen, Johnson and Fuller</td>\n",
       "      <td>Grocery Store</td>\n",
       "      <td>91228 Hanson Stream\\nWelchtown, OR 27136</td>\n",
       "      <td>East Sheena</td>\n",
       "      <td>+1-925-283-8901x6297</td>\n",
       "    </tr>\n",
       "    <tr>\n",
       "      <th>2</th>\n",
       "      <td>3</td>\n",
       "      <td>Miller-Black</td>\n",
       "      <td>Supermarket</td>\n",
       "      <td>561 Martinez Point Suite 507\\nGuzmanchester, W...</td>\n",
       "      <td>Lake Jesusview</td>\n",
       "      <td>001-517-295-2206</td>\n",
       "    </tr>\n",
       "    <tr>\n",
       "      <th>3</th>\n",
       "      <td>4</td>\n",
       "      <td>Clark, Prince and Williams</td>\n",
       "      <td>Grocery Store</td>\n",
       "      <td>467 Bell Trail Suite 409\\nPort Jesus, IA 61188</td>\n",
       "      <td>Mendezmouth</td>\n",
       "      <td>556.944.8935x401</td>\n",
       "    </tr>\n",
       "    <tr>\n",
       "      <th>4</th>\n",
       "      <td>5</td>\n",
       "      <td>Coleman-Farley</td>\n",
       "      <td>Grocery Store</td>\n",
       "      <td>078 Matthew Creek Apt. 319\\nSaraborough, MA 53978</td>\n",
       "      <td>Valentineside</td>\n",
       "      <td>193.714.6577</td>\n",
       "    </tr>\n",
       "  </tbody>\n",
       "</table>\n",
       "</div>"
      ],
      "text/plain": [
       "   Provider_ID                         Name           Type  \\\n",
       "0            1             Gonzales-Cochran    Supermarket   \n",
       "1            2  Nielsen, Johnson and Fuller  Grocery Store   \n",
       "2            3                 Miller-Black    Supermarket   \n",
       "3            4   Clark, Prince and Williams  Grocery Store   \n",
       "4            5               Coleman-Farley  Grocery Store   \n",
       "\n",
       "                                             Address            City  \\\n",
       "0  74347 Christopher Extensions\\nAndreamouth, OK ...     New Jessica   \n",
       "1           91228 Hanson Stream\\nWelchtown, OR 27136     East Sheena   \n",
       "2  561 Martinez Point Suite 507\\nGuzmanchester, W...  Lake Jesusview   \n",
       "3     467 Bell Trail Suite 409\\nPort Jesus, IA 61188     Mendezmouth   \n",
       "4  078 Matthew Creek Apt. 319\\nSaraborough, MA 53978   Valentineside   \n",
       "\n",
       "                Contact  \n",
       "0       +1-600-220-0480  \n",
       "1  +1-925-283-8901x6297  \n",
       "2      001-517-295-2206  \n",
       "3      556.944.8935x401  \n",
       "4          193.714.6577  "
      ]
     },
     "metadata": {},
     "output_type": "display_data"
    },
    {
     "name": "stdout",
     "output_type": "stream",
     "text": [
      "\n",
      "Receivers Data:\n"
     ]
    },
    {
     "data": {
      "text/html": [
       "<div>\n",
       "<style scoped>\n",
       "    .dataframe tbody tr th:only-of-type {\n",
       "        vertical-align: middle;\n",
       "    }\n",
       "\n",
       "    .dataframe tbody tr th {\n",
       "        vertical-align: top;\n",
       "    }\n",
       "\n",
       "    .dataframe thead th {\n",
       "        text-align: right;\n",
       "    }\n",
       "</style>\n",
       "<table border=\"1\" class=\"dataframe\">\n",
       "  <thead>\n",
       "    <tr style=\"text-align: right;\">\n",
       "      <th></th>\n",
       "      <th>Receiver_ID</th>\n",
       "      <th>Name</th>\n",
       "      <th>Type</th>\n",
       "      <th>City</th>\n",
       "      <th>Contact</th>\n",
       "    </tr>\n",
       "  </thead>\n",
       "  <tbody>\n",
       "    <tr>\n",
       "      <th>0</th>\n",
       "      <td>1</td>\n",
       "      <td>Donald Gomez</td>\n",
       "      <td>Shelter</td>\n",
       "      <td>Port Carlburgh</td>\n",
       "      <td>(955)922-5295</td>\n",
       "    </tr>\n",
       "    <tr>\n",
       "      <th>1</th>\n",
       "      <td>2</td>\n",
       "      <td>Laurie Ramos</td>\n",
       "      <td>Individual</td>\n",
       "      <td>Lewisburgh</td>\n",
       "      <td>761.042.1570</td>\n",
       "    </tr>\n",
       "    <tr>\n",
       "      <th>2</th>\n",
       "      <td>3</td>\n",
       "      <td>Ashley Mckee</td>\n",
       "      <td>NGO</td>\n",
       "      <td>South Randalltown</td>\n",
       "      <td>691-023-0094x856</td>\n",
       "    </tr>\n",
       "    <tr>\n",
       "      <th>3</th>\n",
       "      <td>4</td>\n",
       "      <td>Erika Rose</td>\n",
       "      <td>NGO</td>\n",
       "      <td>South Shaneville</td>\n",
       "      <td>8296491111</td>\n",
       "    </tr>\n",
       "    <tr>\n",
       "      <th>4</th>\n",
       "      <td>5</td>\n",
       "      <td>John Romero</td>\n",
       "      <td>Individual</td>\n",
       "      <td>Bakerport</td>\n",
       "      <td>067.491.0154</td>\n",
       "    </tr>\n",
       "  </tbody>\n",
       "</table>\n",
       "</div>"
      ],
      "text/plain": [
       "   Receiver_ID          Name        Type               City           Contact\n",
       "0            1  Donald Gomez     Shelter     Port Carlburgh     (955)922-5295\n",
       "1            2  Laurie Ramos  Individual         Lewisburgh      761.042.1570\n",
       "2            3  Ashley Mckee         NGO  South Randalltown  691-023-0094x856\n",
       "3            4    Erika Rose         NGO   South Shaneville        8296491111\n",
       "4            5   John Romero  Individual          Bakerport      067.491.0154"
      ]
     },
     "metadata": {},
     "output_type": "display_data"
    },
    {
     "name": "stdout",
     "output_type": "stream",
     "text": [
      "\n",
      "Food Listings Data:\n"
     ]
    },
    {
     "data": {
      "text/html": [
       "<div>\n",
       "<style scoped>\n",
       "    .dataframe tbody tr th:only-of-type {\n",
       "        vertical-align: middle;\n",
       "    }\n",
       "\n",
       "    .dataframe tbody tr th {\n",
       "        vertical-align: top;\n",
       "    }\n",
       "\n",
       "    .dataframe thead th {\n",
       "        text-align: right;\n",
       "    }\n",
       "</style>\n",
       "<table border=\"1\" class=\"dataframe\">\n",
       "  <thead>\n",
       "    <tr style=\"text-align: right;\">\n",
       "      <th></th>\n",
       "      <th>Food_ID</th>\n",
       "      <th>Food_Name</th>\n",
       "      <th>Quantity</th>\n",
       "      <th>Expiry_Date</th>\n",
       "      <th>Provider_ID</th>\n",
       "      <th>Provider_Type</th>\n",
       "      <th>Location</th>\n",
       "      <th>Food_Type</th>\n",
       "      <th>Meal_Type</th>\n",
       "    </tr>\n",
       "  </thead>\n",
       "  <tbody>\n",
       "    <tr>\n",
       "      <th>0</th>\n",
       "      <td>1</td>\n",
       "      <td>Bread</td>\n",
       "      <td>43</td>\n",
       "      <td>3/17/2025</td>\n",
       "      <td>110</td>\n",
       "      <td>Grocery Store</td>\n",
       "      <td>South Kellyville</td>\n",
       "      <td>Non-Vegetarian</td>\n",
       "      <td>Breakfast</td>\n",
       "    </tr>\n",
       "    <tr>\n",
       "      <th>1</th>\n",
       "      <td>2</td>\n",
       "      <td>Soup</td>\n",
       "      <td>22</td>\n",
       "      <td>3/24/2025</td>\n",
       "      <td>791</td>\n",
       "      <td>Grocery Store</td>\n",
       "      <td>West James</td>\n",
       "      <td>Non-Vegetarian</td>\n",
       "      <td>Dinner</td>\n",
       "    </tr>\n",
       "    <tr>\n",
       "      <th>2</th>\n",
       "      <td>3</td>\n",
       "      <td>Fruits</td>\n",
       "      <td>46</td>\n",
       "      <td>3/28/2025</td>\n",
       "      <td>478</td>\n",
       "      <td>Catering Service</td>\n",
       "      <td>Lake Regina</td>\n",
       "      <td>Vegan</td>\n",
       "      <td>Breakfast</td>\n",
       "    </tr>\n",
       "    <tr>\n",
       "      <th>3</th>\n",
       "      <td>4</td>\n",
       "      <td>Fruits</td>\n",
       "      <td>15</td>\n",
       "      <td>3/16/2025</td>\n",
       "      <td>930</td>\n",
       "      <td>Restaurant</td>\n",
       "      <td>Kellytown</td>\n",
       "      <td>Vegan</td>\n",
       "      <td>Lunch</td>\n",
       "    </tr>\n",
       "    <tr>\n",
       "      <th>4</th>\n",
       "      <td>5</td>\n",
       "      <td>Soup</td>\n",
       "      <td>14</td>\n",
       "      <td>3/19/2025</td>\n",
       "      <td>279</td>\n",
       "      <td>Restaurant</td>\n",
       "      <td>Garciaport</td>\n",
       "      <td>Vegan</td>\n",
       "      <td>Dinner</td>\n",
       "    </tr>\n",
       "  </tbody>\n",
       "</table>\n",
       "</div>"
      ],
      "text/plain": [
       "   Food_ID Food_Name  Quantity Expiry_Date  Provider_ID     Provider_Type  \\\n",
       "0        1     Bread        43   3/17/2025          110     Grocery Store   \n",
       "1        2      Soup        22   3/24/2025          791     Grocery Store   \n",
       "2        3    Fruits        46   3/28/2025          478  Catering Service   \n",
       "3        4    Fruits        15   3/16/2025          930        Restaurant   \n",
       "4        5      Soup        14   3/19/2025          279        Restaurant   \n",
       "\n",
       "           Location       Food_Type  Meal_Type  \n",
       "0  South Kellyville  Non-Vegetarian  Breakfast  \n",
       "1        West James  Non-Vegetarian     Dinner  \n",
       "2       Lake Regina           Vegan  Breakfast  \n",
       "3         Kellytown           Vegan      Lunch  \n",
       "4        Garciaport           Vegan     Dinner  "
      ]
     },
     "metadata": {},
     "output_type": "display_data"
    },
    {
     "name": "stdout",
     "output_type": "stream",
     "text": [
      "\n",
      "Claims Data:\n"
     ]
    },
    {
     "data": {
      "text/html": [
       "<div>\n",
       "<style scoped>\n",
       "    .dataframe tbody tr th:only-of-type {\n",
       "        vertical-align: middle;\n",
       "    }\n",
       "\n",
       "    .dataframe tbody tr th {\n",
       "        vertical-align: top;\n",
       "    }\n",
       "\n",
       "    .dataframe thead th {\n",
       "        text-align: right;\n",
       "    }\n",
       "</style>\n",
       "<table border=\"1\" class=\"dataframe\">\n",
       "  <thead>\n",
       "    <tr style=\"text-align: right;\">\n",
       "      <th></th>\n",
       "      <th>Claim_ID</th>\n",
       "      <th>Food_ID</th>\n",
       "      <th>Receiver_ID</th>\n",
       "      <th>Status</th>\n",
       "      <th>Timestamp</th>\n",
       "    </tr>\n",
       "  </thead>\n",
       "  <tbody>\n",
       "    <tr>\n",
       "      <th>0</th>\n",
       "      <td>1</td>\n",
       "      <td>164</td>\n",
       "      <td>908</td>\n",
       "      <td>Pending</td>\n",
       "      <td>3/5/2025 5:26</td>\n",
       "    </tr>\n",
       "    <tr>\n",
       "      <th>1</th>\n",
       "      <td>2</td>\n",
       "      <td>353</td>\n",
       "      <td>391</td>\n",
       "      <td>Cancelled</td>\n",
       "      <td>3/11/2025 10:24</td>\n",
       "    </tr>\n",
       "    <tr>\n",
       "      <th>2</th>\n",
       "      <td>3</td>\n",
       "      <td>626</td>\n",
       "      <td>492</td>\n",
       "      <td>Completed</td>\n",
       "      <td>3/21/2025 0:59</td>\n",
       "    </tr>\n",
       "    <tr>\n",
       "      <th>3</th>\n",
       "      <td>4</td>\n",
       "      <td>61</td>\n",
       "      <td>933</td>\n",
       "      <td>Cancelled</td>\n",
       "      <td>3/4/2025 9:08</td>\n",
       "    </tr>\n",
       "    <tr>\n",
       "      <th>4</th>\n",
       "      <td>5</td>\n",
       "      <td>345</td>\n",
       "      <td>229</td>\n",
       "      <td>Pending</td>\n",
       "      <td>3/14/2025 15:17</td>\n",
       "    </tr>\n",
       "  </tbody>\n",
       "</table>\n",
       "</div>"
      ],
      "text/plain": [
       "   Claim_ID  Food_ID  Receiver_ID     Status        Timestamp\n",
       "0         1      164          908    Pending    3/5/2025 5:26\n",
       "1         2      353          391  Cancelled  3/11/2025 10:24\n",
       "2         3      626          492  Completed   3/21/2025 0:59\n",
       "3         4       61          933  Cancelled    3/4/2025 9:08\n",
       "4         5      345          229    Pending  3/14/2025 15:17"
      ]
     },
     "metadata": {},
     "output_type": "display_data"
    }
   ],
   "source": [
    "print(\"Providers Data:\")\n",
    "display(providers_df.head())\n",
    "\n",
    "print(\"\\nReceivers Data:\")\n",
    "display(receivers_df.head())\n",
    "\n",
    "print(\"\\nFood Listings Data:\")\n",
    "display(food_listings_df.head())\n",
    "\n",
    "print(\"\\nClaims Data:\")\n",
    "display(claims_df.head())"
   ]
  },
  {
   "cell_type": "code",
   "execution_count": 16,
   "metadata": {},
   "outputs": [
    {
     "name": "stdout",
     "output_type": "stream",
     "text": [
      "✅ SQLite Database 'food_waste_management.db' created successfully!\n"
     ]
    }
   ],
   "source": [
    "conn = sqlite3.connect(\"food_waste_management.db\")\n",
    "cursor = conn.cursor()\n",
    "print(\"✅ SQLite Database 'food_waste_management.db' created successfully!\")\n",
    "conn.close()\n",
    "\n",
    "conn = sqlite3.connect(\"food_waste_management.db\")\n",
    "cursor = conn.cursor()\n"
   ]
  },
  {
   "cell_type": "code",
   "execution_count": 17,
   "metadata": {},
   "outputs": [
    {
     "name": "stdout",
     "output_type": "stream",
     "text": [
      "✅ Tables created successfully!\n"
     ]
    }
   ],
   "source": [
    "import sqlite3\n",
    "\n",
    "# Connect to SQLite database\n",
    "conn = sqlite3.connect(\"food_waste_management.db\")\n",
    "cursor = conn.cursor()\n",
    "\n",
    "# Drop tables if they exist\n",
    "cursor.execute(\"DROP TABLE IF EXISTS Providers\")\n",
    "cursor.execute(\"DROP TABLE IF EXISTS Receivers\")\n",
    "cursor.execute(\"DROP TABLE IF EXISTS Food_Listings\")\n",
    "cursor.execute(\"DROP TABLE IF EXISTS Claims\")\n",
    "\n",
    "# Create Providers table\n",
    "cursor.execute('''\n",
    "CREATE TABLE IF NOT EXISTS Providers(\n",
    "    Provider_ID INTEGER PRIMARY KEY,\n",
    "    Name TEXT,\n",
    "    Type TEXT,\n",
    "    Address TEXT,\n",
    "    City TEXT,\n",
    "    Contact TEXT\n",
    ")\n",
    "''')\n",
    "\n",
    "# Create Receivers table\n",
    "cursor.execute('''\n",
    "CREATE TABLE IF NOT EXISTS Receivers(\n",
    "    Receiver_ID INTEGER PRIMARY KEY,\n",
    "    Name TEXT,\n",
    "    Type TEXT,\n",
    "    City TEXT,\n",
    "    Contact TEXT\n",
    ")\n",
    "''')\n",
    "\n",
    "# Create Food_Listings table\n",
    "cursor.execute('''\n",
    "CREATE TABLE IF NOT EXISTS Food_Listings(\n",
    "    Food_ID INTEGER PRIMARY KEY,\n",
    "    Food_Name TEXT,\n",
    "    Quantity INTEGER,\n",
    "    Expiry_Date DATE,\n",
    "    Provider_ID INTEGER,\n",
    "    Provider_Type TEXT,\n",
    "    Location TEXT,\n",
    "    Food_Type TEXT,\n",
    "    Meal_Type TEXT,\n",
    "    FOREIGN KEY (Provider_ID) REFERENCES Providers(Provider_ID)\n",
    ")\n",
    "''')\n",
    "\n",
    "# Create Claims table\n",
    "cursor.execute('''\n",
    "CREATE TABLE IF NOT EXISTS Claims(\n",
    "    Claim_ID INTEGER PRIMARY KEY,\n",
    "    Food_ID INTEGER,\n",
    "    Receiver_ID INTEGER,\n",
    "    Status TEXT,\n",
    "    Timestamp DATETIME,\n",
    "    FOREIGN KEY (Food_ID) REFERENCES Food_Listings(Food_ID),\n",
    "    FOREIGN KEY (Receiver_ID) REFERENCES Receivers(Receiver_ID)\n",
    ")\n",
    "''')\n",
    "\n",
    "# Commit and close connection\n",
    "conn.commit()\n",
    "conn.close()\n",
    "\n",
    "print(\"✅ Tables created successfully!\")\n"
   ]
  },
  {
   "cell_type": "code",
   "execution_count": 18,
   "metadata": {},
   "outputs": [
    {
     "name": "stdout",
     "output_type": "stream",
     "text": [
      "✅ Data inserted into 'Providers' successfully.\n",
      "✅ Data inserted into 'Receivers' successfully.\n",
      "✅ Data inserted into 'Food_Listings' successfully.\n",
      "✅ Data inserted into 'Claims' successfully.\n",
      "🎉 All data has been successfully inserted into the database!\n"
     ]
    }
   ],
   "source": [
    "def insert_data_from_csv(csv_file, table_name, conn):\n",
    "    df = pd.read_csv(csv_file)  # Read CSV file\n",
    "    df.to_sql(table_name, conn, if_exists=\"append\", index=False)  # Insert into SQL\n",
    "    print(f\"✅ Data inserted into '{table_name}' successfully.\")\n",
    "    \n",
    "conn = sqlite3.connect(\"food_waste_management.db\")\n",
    "\n",
    "# Insert data into tables\n",
    "insert_data_from_csv(\"providers_data.csv\", \"Providers\", conn)\n",
    "insert_data_from_csv(\"receivers_data.csv\", \"Receivers\", conn)\n",
    "insert_data_from_csv(\"food_listings_data.csv\", \"Food_Listings\", conn)\n",
    "insert_data_from_csv(\"claims_data.csv\", \"Claims\", conn)\n",
    "\n",
    "# Close the connection\n",
    "conn.close()\n",
    "\n",
    "print(\"🎉 All data has been successfully inserted into the database!\")"
   ]
  },
  {
   "cell_type": "code",
   "execution_count": 19,
   "metadata": {},
   "outputs": [
    {
     "name": "stdout",
     "output_type": "stream",
     "text": [
      "\n",
      "Providers Table:\n",
      "(1, 'Gonzales-Cochran', 'Supermarket', '74347 Christopher Extensions\\nAndreamouth, OK 91839', 'New Jessica', '+1-600-220-0480')\n",
      "(2, 'Nielsen, Johnson and Fuller', 'Grocery Store', '91228 Hanson Stream\\nWelchtown, OR 27136', 'East Sheena', '+1-925-283-8901x6297')\n",
      "(3, 'Miller-Black', 'Supermarket', '561 Martinez Point Suite 507\\nGuzmanchester, WA 94320', 'Lake Jesusview', '001-517-295-2206')\n",
      "(4, 'Clark, Prince and Williams', 'Grocery Store', '467 Bell Trail Suite 409\\nPort Jesus, IA 61188', 'Mendezmouth', '556.944.8935x401')\n",
      "(5, 'Coleman-Farley', 'Grocery Store', '078 Matthew Creek Apt. 319\\nSaraborough, MA 53978', 'Valentineside', '193.714.6577')\n",
      "\n",
      "Food Listings Table:\n",
      "(1, 'Bread', 43, '3/17/2025', 110, 'Grocery Store', 'South Kellyville', 'Non-Vegetarian', 'Breakfast')\n",
      "(2, 'Soup', 22, '3/24/2025', 791, 'Grocery Store', 'West James', 'Non-Vegetarian', 'Dinner')\n",
      "(3, 'Fruits', 46, '3/28/2025', 478, 'Catering Service', 'Lake Regina', 'Vegan', 'Breakfast')\n",
      "(4, 'Fruits', 15, '3/16/2025', 930, 'Restaurant', 'Kellytown', 'Vegan', 'Lunch')\n",
      "(5, 'Soup', 14, '3/19/2025', 279, 'Restaurant', 'Garciaport', 'Vegan', 'Dinner')\n"
     ]
    }
   ],
   "source": [
    "conn = sqlite3.connect(\"food_waste_management.db\")\n",
    "cursor = conn.cursor()\n",
    "\n",
    "# Check data from Providers Table\n",
    "print(\"\\nProviders Table:\")\n",
    "for row in cursor.execute(\"SELECT * FROM Providers LIMIT 5\"):\n",
    "    print(row)\n",
    "\n",
    "# Check data from Food Listings Table\n",
    "print(\"\\nFood Listings Table:\")\n",
    "for row in cursor.execute(\"SELECT * FROM Food_Listings LIMIT 5\"):\n",
    "    print(row)\n",
    "\n",
    "# Close the connection\n",
    "conn.close()"
   ]
  },
  {
   "cell_type": "code",
   "execution_count": 21,
   "metadata": {},
   "outputs": [
    {
     "name": "stdout",
     "output_type": "stream",
     "text": [
      "                 City  Total_Providers  Total_Receivers\n",
      "0            Adambury                1                0\n",
      "1           Adamsview                1                0\n",
      "2          Adamsville                1                0\n",
      "3        Aguirreville                1                0\n",
      "4    Alexanderchester                1                0\n",
      "..                ...              ...              ...\n",
      "958       Wrightville                1                0\n",
      "959         Yatesside                1                0\n",
      "960      Youngchester                1                0\n",
      "961      Zimmermanton                1                0\n",
      "962    Zimmermanville                1                0\n",
      "\n",
      "[963 rows x 3 columns]\n"
     ]
    }
   ],
   "source": [
    "#Question 1) How many food providers and receivers are there in each city?\n",
    "\n",
    "import sqlite3\n",
    "import pandas as pd # type: ignore\n",
    "\n",
    "\n",
    "conn = sqlite3.connect(\"food_waste_management.db\")  \n",
    "cursor = conn.cursor()\n",
    "\n",
    "query = \"\"\"\n",
    "SELECT \n",
    "    P.City,\n",
    "    COUNT(DISTINCT P.Provider_ID) AS Total_Providers,\n",
    "    COUNT(DISTINCT R.Receiver_ID) AS Total_Receivers\n",
    "FROM Providers P\n",
    "LEFT JOIN Receivers R ON P.City = R.City\n",
    "GROUP BY P.City;\n",
    "\"\"\"\n",
    "\n",
    "# Execute the query and load results into a DataFrame\n",
    "df = pd.read_sql_query(query, conn)\n",
    "\n",
    "# Display the DataFrame\n",
    "print(df)\n",
    "\n",
    "# Close connection\n",
    "conn.close()"
   ]
  },
  {
   "cell_type": "code",
   "execution_count": 22,
   "metadata": {},
   "outputs": [
    {
     "name": "stdout",
     "output_type": "stream",
     "text": [
      "  Provider_Type  Total_Food_Quantity\n",
      "0    Restaurant                 6923\n"
     ]
    }
   ],
   "source": [
    "#Question 2) Which type of food provider (restaurant, grocery store, etc.) contributes the most food?\n",
    "\n",
    "conn = sqlite3.connect(\"food_waste_management.db\")  \n",
    "cursor = conn.cursor()\n",
    "\n",
    "query = \"\"\"\n",
    "SELECT Provider_Type, SUM(Quantity) AS Total_Food_Quantity\n",
    "FROM Food_Listings\n",
    "GROUP BY Provider_Type\n",
    "ORDER BY Total_Food_Quantity DESC\n",
    "LIMIT 1;\n",
    "\"\"\"\n",
    "df = pd.read_sql_query(query, conn)\n",
    "print(df)"
   ]
  },
  {
   "cell_type": "code",
   "execution_count": 23,
   "metadata": {},
   "outputs": [
    {
     "name": "stdout",
     "output_type": "stream",
     "text": [
      "               City\n",
      "0       New Jessica\n",
      "1       East Sheena\n",
      "2    Lake Jesusview\n",
      "3       Mendezmouth\n",
      "4     Valentineside\n",
      "..              ...\n",
      "958    Manningshire\n",
      "959   East Rossside\n",
      "960      Joshuastad\n",
      "961   Stevenchester\n",
      "962     Brendantown\n",
      "\n",
      "[963 rows x 1 columns]\n"
     ]
    }
   ],
   "source": [
    "# Checking all the cities name.\n",
    "\n",
    "query_cities = \"SELECT DISTINCT City FROM Providers;\"\n",
    "df_cities = pd.read_sql_query(query_cities, conn)\n",
    "print(df_cities)"
   ]
  },
  {
   "cell_type": "code",
   "execution_count": 24,
   "metadata": {},
   "outputs": [
    {
     "name": "stdout",
     "output_type": "stream",
     "text": [
      "        Name            Contact  \\\n",
      "0  Moody Ltd  637.300.3664x4880   \n",
      "\n",
      "                                           Address  \n",
      "0  17580 Ernest Hills\\nLake Michaelmouth, OR 56416  \n"
     ]
    }
   ],
   "source": [
    "#Question 3) What is the contact information of food providers in a specific city?\n",
    "\n",
    "# Choose a valid city from the output\n",
    "city = \"Stevenchester\"  # Change this to a valid city name\n",
    "\n",
    "query = f\"\"\"\n",
    "SELECT Name, Contact, Address\n",
    "FROM Providers\n",
    "WHERE TRIM(City) = '{city}';\n",
    "\"\"\"\n",
    "df = pd.read_sql_query(query, conn)\n",
    "print(df)"
   ]
  },
  {
   "cell_type": "code",
   "execution_count": 25,
   "metadata": {},
   "outputs": [
    {
     "name": "stdout",
     "output_type": "stream",
     "text": [
      "                Name  Total_Claims\n",
      "0  William Frederick             5\n",
      "1       Scott Hunter             5\n",
      "2       Matthew Webb             5\n",
      "3     Anthony Garcia             5\n",
      "4    Kristine Martin             4\n"
     ]
    }
   ],
   "source": [
    "#Question 4) Which receivers have claimed the most food?\n",
    "\n",
    "query = \"\"\"\n",
    "SELECT Receivers.Name, COUNT(Claims.Claim_ID) AS Total_Claims\n",
    "FROM Claims\n",
    "JOIN Receivers ON Claims.Receiver_ID = Receivers.Receiver_ID\n",
    "GROUP BY Receivers.Name\n",
    "ORDER BY Total_Claims DESC\n",
    "LIMIT 5;\n",
    "\"\"\"\n",
    "df = pd.read_sql_query(query, conn)\n",
    "print(df)"
   ]
  },
  {
   "cell_type": "code",
   "execution_count": 26,
   "metadata": {},
   "outputs": [
    {
     "name": "stdout",
     "output_type": "stream",
     "text": [
      "   Total_Available_Food\n",
      "0                 25794\n"
     ]
    }
   ],
   "source": [
    "#Question 5) What is the total quantity of food available from all providers?\n",
    "\n",
    "query = \"\"\"\n",
    "SELECT SUM(Quantity) AS Total_Available_Food\n",
    "FROM Food_Listings;\n",
    "\"\"\"\n",
    "df = pd.read_sql_query(query, conn)\n",
    "print(df)"
   ]
  },
  {
   "cell_type": "code",
   "execution_count": 27,
   "metadata": {},
   "outputs": [
    {
     "name": "stdout",
     "output_type": "stream",
     "text": [
      "            City  Total_Listings\n",
      "0  South Kathryn               6\n"
     ]
    }
   ],
   "source": [
    "#Question 6) Which city has the highest number of food listings?\n",
    "\n",
    "query = \"\"\"\n",
    "SELECT Location AS City, COUNT(Food_ID) AS Total_Listings\n",
    "FROM Food_Listings\n",
    "GROUP BY Location\n",
    "ORDER BY Total_Listings DESC\n",
    "LIMIT 1;\n",
    "\"\"\"\n",
    "df = pd.read_sql_query(query, conn)\n",
    "print(df)\n"
   ]
  },
  {
   "cell_type": "code",
   "execution_count": 28,
   "metadata": {},
   "outputs": [
    {
     "name": "stdout",
     "output_type": "stream",
     "text": [
      "        Food_Type  Count\n",
      "0      Vegetarian    336\n",
      "1           Vegan    334\n",
      "2  Non-Vegetarian    330\n"
     ]
    }
   ],
   "source": [
    "#Question 7) What are the most commonly available food types?\n",
    "\n",
    "query = \"\"\"\n",
    "SELECT Food_Type, COUNT(*) AS Count\n",
    "FROM Food_Listings\n",
    "GROUP BY Food_Type\n",
    "ORDER BY Count DESC\n",
    "LIMIT 5;\n",
    "\"\"\"\n",
    "df = pd.read_sql_query(query, conn)\n",
    "print(df)"
   ]
  },
  {
   "cell_type": "code",
   "execution_count": 29,
   "metadata": {},
   "outputs": [
    {
     "name": "stdout",
     "output_type": "stream",
     "text": [
      "  MIN(Expiry_Date) MAX(Expiry_Date)\n",
      "0        3/16/2025        3/30/2025\n"
     ]
    }
   ],
   "source": [
    "#check the expirty date of the food listings\n",
    "\n",
    "query_check = \"SELECT MIN(Expiry_Date), MAX(Expiry_Date) FROM Food_Listings;\"\n",
    "df_check = pd.read_sql_query(query_check, conn)\n",
    "print(df_check)"
   ]
  },
  {
   "cell_type": "code",
   "execution_count": 30,
   "metadata": {},
   "outputs": [
    {
     "name": "stdout",
     "output_type": "stream",
     "text": [
      "Empty DataFrame\n",
      "Columns: [Food_ID, Food_Name, Quantity, Expiry_Date, Provider_ID, Provider_Type, Location, Food_Type, Meal_Type]\n",
      "Index: []\n"
     ]
    }
   ],
   "source": [
    "#Question 8) Which food listings are expiring soon (within the next 3 days)?\n",
    "\n",
    "\n",
    "query = \"\"\"\n",
    "SELECT * \n",
    "FROM Food_Listings\n",
    "WHERE DATE(Expiry_Date) BETWEEN DATE('now') AND DATE('now', '+3 days')\n",
    "ORDER BY Expiry_Date;\n",
    "\"\"\"\n",
    "df = pd.read_sql_query(query, conn)\n",
    "print(df)\n",
    "\n",
    "#No data as the expiry date is not in the range of 3 days."
   ]
  },
  {
   "cell_type": "code",
   "execution_count": 31,
   "metadata": {},
   "outputs": [
    {
     "name": "stdout",
     "output_type": "stream",
     "text": [
      "    Food_Name  Total_Claims\n",
      "0        Rice           122\n",
      "1        Soup           114\n",
      "2       Dairy           110\n",
      "3        Fish           108\n",
      "4       Salad           106\n",
      "5     Chicken           102\n",
      "6       Bread            94\n",
      "7       Pasta            87\n",
      "8  Vegetables            86\n",
      "9      Fruits            71\n"
     ]
    }
   ],
   "source": [
    "#Question 9) How many food claims have been made for each food item?\n",
    "\n",
    "query = \"\"\"\n",
    "SELECT Food_Listings.Food_Name, COUNT(Claims.Claim_ID) AS Total_Claims\n",
    "FROM Claims\n",
    "JOIN Food_Listings ON Claims.Food_ID = Food_Listings.Food_ID\n",
    "GROUP BY Food_Listings.Food_Name\n",
    "ORDER BY Total_Claims DESC;\n",
    "\"\"\"\n",
    "df = pd.read_sql_query(query, conn)\n",
    "print(df)"
   ]
  },
  {
   "cell_type": "code",
   "execution_count": null,
   "metadata": {},
   "outputs": [
    {
     "name": "stdout",
     "output_type": "stream",
     "text": [
      "          Name  Successful_Claims\n",
      "0  Barry Group                  5\n"
     ]
    }
   ],
   "source": [
    "#Question 10) Which provider has had the highest number of successful food claims?\n",
    "\n",
    "query = \"\"\"\n",
    "SELECT Providers.Name, COUNT(Claims.Claim_ID) AS Successful_Claims\n",
    "FROM Claims\n",
    "JOIN Food_Listings ON Claims.Food_ID = Food_Listings.Food_ID\n",
    "JOIN Providers ON Food_Listings.Provider_ID = Providers.Provider_ID\n",
    "WHERE Claims.Status = 'Completed'\n",
    "GROUP BY Providers.Name\n",
    "ORDER BY Successful_Claims DESC\n",
    "LIMIT 1;\n",
    "\"\"\"\n",
    "df = pd.read_sql_query(query, conn)\n",
    "print(df)"
   ]
  },
  {
   "cell_type": "code",
   "execution_count": 52,
   "metadata": {},
   "outputs": [
    {
     "name": "stdout",
     "output_type": "stream",
     "text": [
      "   cid           name     type  notnull dflt_value  pk\n",
      "0    0        Food_ID  INTEGER        0       None   1\n",
      "1    1      Food_Name     TEXT        0       None   0\n",
      "2    2       Quantity  INTEGER        0       None   0\n",
      "3    3    Expiry_Date     DATE        0       None   0\n",
      "4    4    Provider_ID  INTEGER        0       None   0\n",
      "5    5  Provider_Type     TEXT        0       None   0\n",
      "6    6       Location     TEXT        0       None   0\n",
      "7    7      Food_Type     TEXT        0       None   0\n",
      "8    8      Meal_Type     TEXT        0       None   0\n",
      "9    9   Listing_Date     DATE        0       None   0\n"
     ]
    }
   ],
   "source": [
    "query_check_columns = \"PRAGMA table_info(Food_Listings);\"\n",
    "df_columns = pd.read_sql_query(query_check_columns, conn)\n",
    "print(df_columns)"
   ]
  },
  {
   "cell_type": "code",
   "execution_count": 53,
   "metadata": {},
   "outputs": [],
   "source": [
    "query_update = \"UPDATE Food_Listings SET Listing_Date = '2024-03-01' WHERE Listing_Date IS NULL;\"\n",
    "conn.execute(query_update)\n",
    "conn.commit()"
   ]
  },
  {
   "cell_type": "code",
   "execution_count": null,
   "metadata": {},
   "outputs": [
    {
     "name": "stdout",
     "output_type": "stream",
     "text": [
      "               City Avg_Claim_Time\n",
      "0          Adambury           None\n",
      "1  Alexanderchester           None\n"
     ]
    }
   ],
   "source": [
    "#Question 11) Which city has the fastest claim rate (average time between food listing and claim)?\n",
    "\n",
    "query = \"\"\"\n",
    "SELECT Food_Listings.Location AS City, \n",
    "       AVG(JULIANDAY(Claims.Timestamp) - JULIANDAY(Food_Listings.Listing_Date)) AS Avg_Claim_Time\n",
    "FROM Claims\n",
    "JOIN Food_Listings ON Claims.Food_ID = Food_Listings.Food_ID\n",
    "GROUP BY City\n",
    "ORDER BY Avg_Claim_Time ASC\n",
    "Limit 2;\n",
    "\"\"\"\n",
    "df = pd.read_sql_query(query, conn)\n",
    "print(df)\n",
    "\n",
    "#As there is no date in the listing table, we cannot calculate the average time between food listing and claim."
   ]
  },
  {
   "cell_type": "code",
   "execution_count": null,
   "metadata": {},
   "outputs": [
    {
     "name": "stdout",
     "output_type": "stream",
     "text": [
      "      Status  Count  Percentage\n",
      "0  Cancelled    336        33.6\n",
      "1  Completed    339        33.9\n",
      "2    Pending    325        32.5\n"
     ]
    }
   ],
   "source": [
    "#Question 12) What percentage of food claims are completed vs. pending vs. canceled?\n",
    "\n",
    "query = \"\"\"\n",
    "SELECT Status, \n",
    "       COUNT(*) AS Count, \n",
    "       (COUNT(*) * 100.0 / (SELECT COUNT(*) FROM Claims)) AS Percentage\n",
    "FROM Claims\n",
    "GROUP BY Status;\n",
    "\"\"\"\n",
    "df = pd.read_sql_query(query, conn)\n",
    "print(df)"
   ]
  },
  {
   "cell_type": "code",
   "execution_count": null,
   "metadata": {},
   "outputs": [
    {
     "name": "stdout",
     "output_type": "stream",
     "text": [
      "                  Name  Avg_Quantity_Claimed\n",
      "0    Thomas Villanueva                  50.0\n",
      "1         Peggy Knight                  50.0\n",
      "2          Nancy Silva                  50.0\n",
      "3          Nancy Jones                  50.0\n",
      "4           Lisa Pitts                  50.0\n",
      "..                 ...                   ...\n",
      "615     Kenneth Barnes                   2.0\n",
      "616      John Reynolds                   2.0\n",
      "617    Corey Rodriguez                   2.0\n",
      "618      Joshua Hooper                   1.0\n",
      "619       Amanda Kline                   1.0\n",
      "\n",
      "[620 rows x 2 columns]\n"
     ]
    }
   ],
   "source": [
    "#Question 13) What is the average quantity of food claimed per receiver?\n",
    "\n",
    "query = \"\"\"\n",
    "SELECT Receivers.Name, AVG(Food_Listings.Quantity) AS Avg_Quantity_Claimed\n",
    "FROM Claims\n",
    "JOIN Food_Listings ON Claims.Food_ID = Food_Listings.Food_ID\n",
    "JOIN Receivers ON Claims.Receiver_ID = Receivers.Receiver_ID\n",
    "GROUP BY Receivers.Name\n",
    "ORDER BY Avg_Quantity_Claimed DESC;\n",
    "\"\"\"\n",
    "df = pd.read_sql_query(query, conn)\n",
    "print(df)"
   ]
  },
  {
   "cell_type": "code",
   "execution_count": null,
   "metadata": {},
   "outputs": [
    {
     "name": "stdout",
     "output_type": "stream",
     "text": [
      "   Meal_Type  Total_Claims\n",
      "0  Breakfast           278\n",
      "1      Lunch           250\n",
      "2     Snacks           240\n",
      "3     Dinner           232\n"
     ]
    }
   ],
   "source": [
    "#Question 14)  Which meal type (breakfast, lunch, dinner, snacks) is claimed the most?\n",
    "\n",
    "query = \"\"\"\n",
    "SELECT Meal_Type, COUNT(*) AS Total_Claims\n",
    "FROM Food_Listings\n",
    "JOIN Claims ON Food_Listings.Food_ID = Claims.Food_ID\n",
    "GROUP BY Meal_Type\n",
    "ORDER BY Total_Claims DESC;\n",
    "\"\"\"\n",
    "df = pd.read_sql_query(query, conn)\n",
    "print(df)"
   ]
  },
  {
   "cell_type": "code",
   "execution_count": null,
   "metadata": {},
   "outputs": [
    {
     "name": "stdout",
     "output_type": "stream",
     "text": [
      "                                Name  Total_Donated\n",
      "0                         Miller Inc            217\n",
      "1                        Barry Group            179\n",
      "2         Evans, Wright and Mitchell            158\n",
      "3                        Smith Group            150\n",
      "4                       Campbell LLC            145\n",
      "..                               ...            ...\n",
      "623                   Reyes and Sons              1\n",
      "624                  Norris-Townsend              1\n",
      "625                        Mcgee PLC              1\n",
      "626  Martinez, Armstrong and Carroll              1\n",
      "627                   Gonzales-Moore              1\n",
      "\n",
      "[628 rows x 2 columns]\n"
     ]
    }
   ],
   "source": [
    "#Question 15) What is the total quantity of food donated by each provider?\n",
    "\n",
    "query = \"\"\"\n",
    "SELECT Providers.Name, SUM(Food_Listings.Quantity) AS Total_Donated\n",
    "FROM Food_Listings\n",
    "JOIN Providers ON Food_Listings.Provider_ID = Providers.Provider_ID\n",
    "GROUP BY Providers.Name\n",
    "ORDER BY Total_Donated DESC;\n",
    "\"\"\"\n",
    "df = pd.read_sql_query(query, conn)\n",
    "print(df)"
   ]
  },
  {
   "cell_type": "code",
   "execution_count": null,
   "metadata": {},
   "outputs": [
    {
     "name": "stdout",
     "output_type": "stream",
     "text": [
      "       Location  Claim_Percentage\n",
      "0  Youngchester             100.0\n",
      "1     Yatesside             100.0\n",
      "2      Woodport             100.0\n",
      "3    Wilsonview             100.0\n",
      "4    Wilsonport             100.0\n"
     ]
    }
   ],
   "source": [
    "#Question 16) Which 5 cities has the highest percentage of food claims?\n",
    "\n",
    "query = \"\"\"\n",
    "SELECT Location, \n",
    "       COUNT(Claims.Claim_ID) * 100.0 / COUNT(Food_Listings.Food_ID) AS Claim_Percentage\n",
    "FROM Food_Listings\n",
    "LEFT JOIN Claims ON Food_Listings.Food_ID = Claims.Food_ID\n",
    "GROUP BY Location\n",
    "ORDER BY Claim_Percentage DESC\n",
    "LIMIT 5;\n",
    "\"\"\"\n",
    "df = pd.read_sql_query(query, conn)\n",
    "print(df)"
   ]
  },
  {
   "cell_type": "code",
   "execution_count": null,
   "metadata": {},
   "outputs": [
    {
     "name": "stdout",
     "output_type": "stream",
     "text": [
      "    Food_Name  Provider_ID Expiry_Date\n",
      "0      Fruits          930   3/16/2025\n",
      "1        Rice          179   3/16/2025\n",
      "2        Rice          150   3/16/2025\n",
      "3      Fruits          174   3/16/2025\n",
      "4       Pasta          905   3/16/2025\n",
      "..        ...          ...         ...\n",
      "348     Dairy          770   3/30/2025\n",
      "349   Chicken          381   3/30/2025\n",
      "350      Rice          591   3/30/2025\n",
      "351   Chicken          626   3/30/2025\n",
      "352      Fish          467   3/30/2025\n",
      "\n",
      "[353 rows x 3 columns]\n"
     ]
    }
   ],
   "source": [
    "#Question 17) Which food items have never been claimed?\n",
    "\n",
    "query = \"\"\"\n",
    "SELECT Food_Name, Provider_ID, Expiry_Date\n",
    "FROM Food_Listings\n",
    "WHERE Food_ID NOT IN (SELECT DISTINCT Food_ID FROM Claims)\n",
    "ORDER BY Expiry_Date ASC;\n",
    "\"\"\"\n",
    "df = pd.read_sql_query(query, conn)\n",
    "print(df)"
   ]
  },
  {
   "cell_type": "code",
   "execution_count": null,
   "metadata": {},
   "outputs": [
    {
     "name": "stdout",
     "output_type": "stream",
     "text": [
      "             Location  Meal_Type  Count\n",
      "0            Adambury      Lunch      1\n",
      "1    Alexanderchester     Dinner      1\n",
      "2        Allenborough     Dinner      1\n",
      "3            Allenton     Snacks      1\n",
      "4            Allenton      Lunch      1\n",
      "..                ...        ...    ...\n",
      "866         Yatesside     Snacks      1\n",
      "867      Youngchester     Snacks      2\n",
      "868      Zimmermanton      Lunch      2\n",
      "869    Zimmermanville  Breakfast      2\n",
      "870    Zimmermanville      Lunch      1\n",
      "\n",
      "[871 rows x 3 columns]\n"
     ]
    }
   ],
   "source": [
    "#Question 18) Which meal types are donated the most in each city?\n",
    "\n",
    "query = \"\"\"\n",
    "SELECT Location, Meal_Type, COUNT(*) AS Count\n",
    "FROM Food_Listings\n",
    "GROUP BY Location, Meal_Type\n",
    "ORDER BY Location, Count DESC;\n",
    "\"\"\"\n",
    "df = pd.read_sql_query(query, conn)\n",
    "print(df)"
   ]
  },
  {
   "cell_type": "code",
   "execution_count": null,
   "metadata": {},
   "outputs": [
    {
     "name": "stdout",
     "output_type": "stream",
     "text": [
      "             Location       Food_Type  Claim_Count\n",
      "0            Adambury  Non-Vegetarian            3\n",
      "1    Alexanderchester      Vegetarian            2\n",
      "2        Allenborough           Vegan            1\n",
      "3            Allenton      Vegetarian            2\n",
      "4            Allenton           Vegan            1\n",
      "..                ...             ...          ...\n",
      "579          Woodport  Non-Vegetarian            1\n",
      "580         Yatesside           Vegan            2\n",
      "581      Youngchester      Vegetarian            3\n",
      "582      Zimmermanton      Vegetarian            1\n",
      "583    Zimmermanville      Vegetarian            5\n",
      "\n",
      "[584 rows x 3 columns]\n"
     ]
    }
   ],
   "source": [
    "#Question 19) What is the most claimed food type in each city?\n",
    "\n",
    "query = \"\"\"\n",
    "SELECT Location, Food_Type, COUNT(*) AS Claim_Count\n",
    "FROM Claims\n",
    "JOIN Food_Listings ON Claims.Food_ID = Food_Listings.Food_ID\n",
    "GROUP BY Location, Food_Type\n",
    "ORDER BY Location, Claim_Count DESC;\n",
    "\"\"\"\n",
    "df = pd.read_sql_query(query, conn)\n",
    "print(df)"
   ]
  },
  {
   "cell_type": "code",
   "execution_count": null,
   "metadata": {},
   "outputs": [
    {
     "name": "stdout",
     "output_type": "stream",
     "text": [
      "   Provider_ID     Provider_Type  Claim_Rate\n",
      "0            5     Grocery Store         0.0\n",
      "1           10  Catering Service         0.0\n",
      "2           11       Supermarket         0.0\n",
      "3           14  Catering Service         0.0\n",
      "4           33        Restaurant         0.0\n"
     ]
    }
   ],
   "source": [
    "#Question 20) Which provider has the lowest claim rate?\n",
    "\n",
    "query = \"\"\"\n",
    "SELECT Provider_ID, Provider_Type, \n",
    "       COUNT(Claims.Claim_ID) * 100.0 / COUNT(Food_Listings.Food_ID) AS Claim_Rate\n",
    "FROM Food_Listings\n",
    "LEFT JOIN Claims ON Food_Listings.Food_ID = Claims.Food_ID\n",
    "GROUP BY Provider_ID, Provider_Type\n",
    "ORDER BY Claim_Rate ASC\n",
    "LIMIT 5;\n",
    "\"\"\"\n",
    "df = pd.read_sql_query(query, conn)\n",
    "print(df)"
   ]
  },
  {
   "cell_type": "code",
   "execution_count": null,
   "metadata": {},
   "outputs": [
    {
     "name": "stdout",
     "output_type": "stream",
     "text": [
      "   Claim_Success_Rate\n",
      "0                64.7\n"
     ]
    }
   ],
   "source": [
    "#Question 21) What is the overall claim success rate for all listings?\n",
    "\n",
    "query = \"\"\"\n",
    "SELECT \n",
    "    COUNT(DISTINCT Claims.Food_ID) * 100.0 / COUNT(DISTINCT Food_Listings.Food_ID) AS Claim_Success_Rate\n",
    "FROM Food_Listings\n",
    "LEFT JOIN Claims ON Food_Listings.Food_ID = Claims.Food_ID;\n",
    "\"\"\"\n",
    "df = pd.read_sql_query(query, conn)\n",
    "print(df)\n",
    "\n",
    "conn.close()"
   ]
  },
  {
   "cell_type": "code",
   "execution_count": 65,
   "metadata": {},
   "outputs": [
    {
     "name": "stdout",
     "output_type": "stream",
     "text": [
      "Providers Table Structure:\n",
      "   cid         name     type  notnull dflt_value  pk\n",
      "0    0  Provider_ID  INTEGER        0       None   1\n",
      "1    1         Name     TEXT        0       None   0\n",
      "2    2         Type     TEXT        0       None   0\n",
      "3    3      Address     TEXT        0       None   0\n",
      "4    4         City     TEXT        0       None   0\n",
      "5    5      Contact     TEXT        0       None   0\n",
      "\n",
      "Receivers Table Structure:\n",
      "   cid         name     type  notnull dflt_value  pk\n",
      "0    0  Receiver_ID  INTEGER        0       None   1\n",
      "1    1         Name     TEXT        0       None   0\n",
      "2    2         Type     TEXT        0       None   0\n",
      "3    3         City     TEXT        0       None   0\n",
      "4    4      Contact     TEXT        0       None   0\n"
     ]
    }
   ],
   "source": [
    "conn = sqlite3.connect(\"food_waste_management.db\")\n",
    "\n",
    "# Check Providers table\n",
    "query_providers = \"PRAGMA table_info(Providers);\"\n",
    "df_providers = pd.read_sql_query(query_providers, conn)\n",
    "print(\"Providers Table Structure:\")\n",
    "print(df_providers)\n",
    "\n",
    "# Check Receivers table\n",
    "query_receivers = \"PRAGMA table_info(Receivers);\"\n",
    "df_receivers = pd.read_sql_query(query_receivers, conn)\n",
    "print(\"\\nReceivers Table Structure:\")\n",
    "print(df_receivers)\n",
    "\n",
    "conn.close()"
   ]
  },
  {
   "cell_type": "code",
   "execution_count": 73,
   "metadata": {},
   "outputs": [
    {
     "name": "stderr",
     "output_type": "stream",
     "text": [
      "2025-04-02 12:33:09.562 Thread 'MainThread': missing ScriptRunContext! This warning can be ignored when running in bare mode.\n",
      "2025-04-02 12:33:09.570 Thread 'MainThread': missing ScriptRunContext! This warning can be ignored when running in bare mode.\n",
      "2025-04-02 12:33:09.570 Thread 'MainThread': missing ScriptRunContext! This warning can be ignored when running in bare mode.\n",
      "2025-04-02 12:33:09.578 Thread 'MainThread': missing ScriptRunContext! This warning can be ignored when running in bare mode.\n",
      "2025-04-02 12:33:09.586 Thread 'MainThread': missing ScriptRunContext! This warning can be ignored when running in bare mode.\n",
      "2025-04-02 12:33:09.586 Thread 'MainThread': missing ScriptRunContext! This warning can be ignored when running in bare mode.\n",
      "2025-04-02 12:33:09.602 Thread 'MainThread': missing ScriptRunContext! This warning can be ignored when running in bare mode.\n",
      "2025-04-02 12:33:09.610 Thread 'MainThread': missing ScriptRunContext! This warning can be ignored when running in bare mode.\n",
      "2025-04-02 12:33:09.618 Thread 'MainThread': missing ScriptRunContext! This warning can be ignored when running in bare mode.\n",
      "2025-04-02 12:33:09.634 Thread 'MainThread': missing ScriptRunContext! This warning can be ignored when running in bare mode.\n",
      "2025-04-02 12:33:09.650 Thread 'MainThread': missing ScriptRunContext! This warning can be ignored when running in bare mode.\n",
      "2025-04-02 12:33:09.650 Thread 'MainThread': missing ScriptRunContext! This warning can be ignored when running in bare mode.\n",
      "2025-04-02 12:33:09.666 Thread 'MainThread': missing ScriptRunContext! This warning can be ignored when running in bare mode.\n",
      "2025-04-02 12:33:09.666 Thread 'MainThread': missing ScriptRunContext! This warning can be ignored when running in bare mode.\n",
      "2025-04-02 12:33:09.674 Thread 'MainThread': missing ScriptRunContext! This warning can be ignored when running in bare mode.\n",
      "2025-04-02 12:33:09.674 Thread 'MainThread': missing ScriptRunContext! This warning can be ignored when running in bare mode.\n",
      "2025-04-02 12:33:09.682 Thread 'MainThread': missing ScriptRunContext! This warning can be ignored when running in bare mode.\n",
      "2025-04-02 12:33:09.682 Thread 'MainThread': missing ScriptRunContext! This warning can be ignored when running in bare mode.\n",
      "2025-04-02 12:33:09.690 Thread 'MainThread': missing ScriptRunContext! This warning can be ignored when running in bare mode.\n",
      "2025-04-02 12:33:09.697 Thread 'MainThread': missing ScriptRunContext! This warning can be ignored when running in bare mode.\n",
      "2025-04-02 12:33:09.705 Thread 'MainThread': missing ScriptRunContext! This warning can be ignored when running in bare mode.\n",
      "2025-04-02 12:33:09.705 Thread 'MainThread': missing ScriptRunContext! This warning can be ignored when running in bare mode.\n",
      "2025-04-02 12:33:09.713 Thread 'MainThread': missing ScriptRunContext! This warning can be ignored when running in bare mode.\n",
      "2025-04-02 12:33:09.713 The `use_column_width` parameter has been deprecated and will be removed in a future release. Please utilize the `use_container_width` parameter instead.\n",
      "2025-04-02 12:33:09.721 Thread 'MainThread': missing ScriptRunContext! This warning can be ignored when running in bare mode.\n",
      "2025-04-02 12:33:09.728 Thread 'MainThread': missing ScriptRunContext! This warning can be ignored when running in bare mode.\n",
      "2025-04-02 12:33:09.728 Thread 'MainThread': missing ScriptRunContext! This warning can be ignored when running in bare mode.\n"
     ]
    }
   ],
   "source": [
    "import streamlit as st\n",
    "import pandas as pd\n",
    "import sqlite3\n",
    "\n",
    "# Database connection\n",
    "def get_connection():\n",
    "    return sqlite3.connect(\"food_waste_management.db\")\n",
    "\n",
    "# Load data from SQLite\n",
    "def load_data(query):\n",
    "    conn = get_connection()\n",
    "    df = pd.read_sql_query(query, conn)\n",
    "    return df\n",
    "\n",
    "# Streamlit App\n",
    "st.set_page_config(page_title=\"Food Waste Management\", page_icon=\"🍽️\", layout=\"wide\")\n",
    "st.title(\"Food Waste Management System\")\n",
    "st.subheader(\"Connecting Food Providers and Receivers\")\n",
    "# Sidebar Navigation\n",
    "st.sidebar.title(\"Navigation\")\n",
    "page = st.sidebar.radio(\"Go to\", [\"Home\", \"Food Providers\", \"Food Listings\", \"Claims Data\", \"Analytics\"])\n",
    "\n",
    "# Home Page\n",
    "if page == \"Home\":\n",
    "    st.title(\"🍽️ Food Waste Management System\")\n",
    "    st.subheader(\"Reducing food waste by connecting providers with receivers!\")\n",
    "    st.write(\"\"\"This system helps restaurants, grocery stores, and individuals donate excess food to those in need.\"\"\")\n",
    "    st.image(\"https://source.unsplash.com/800x400/?food,saving\", use_column_width=True)\n",
    "\n",
    "# Food Providers Page\n",
    "elif page == \"Food Providers\":\n",
    "    st.title(\"🏢 Food Providers & Receivers\")\n",
    "    query = \"\"\"SELECT City, COUNT(DISTINCT Provider_ID) AS Providers, COUNT(DISTINCT Receiver_ID) AS Receivers \n",
    "               FROM Providers JOIN Receivers ON Providers.City = Receivers.City \n",
    "               GROUP BY City\"\"\"\n",
    "    df = load_data(query)\n",
    "    st.dataframe(df)\n",
    "\n",
    "# Food Listings Page\n",
    "elif page == \"Food Listings\":\n",
    "    st.title(\"📋 Available Food Listings\")\n",
    "    query = \"SELECT * FROM Food_Listings\"\n",
    "    df = load_data(query)\n",
    "    st.dataframe(df)\n",
    "\n",
    "# Claims Data Page\n",
    "elif page == \"Claims Data\":\n",
    "    st.title(\"📊 Food Claims Data\")\n",
    "    query = \"SELECT * FROM Claims\"\n",
    "    df = load_data(query)\n",
    "    st.dataframe(df)\n",
    "\n",
    "# Analytics Page\n",
    "elif page == \"Analytics\":\n",
    "    st.title(\"📈 Food Waste Analytics\")\n",
    "    query = \"SELECT Food_Type, COUNT(*) AS Count FROM Food_Listings GROUP BY Food_Type\"\n",
    "    df = load_data(query)\n",
    "    st.bar_chart(df.set_index(\"Food_Type\"))\n",
    "    st.write(\"Most Commonly Available Food Types\")"
   ]
  },
  {
   "cell_type": "code",
   "execution_count": 69,
   "metadata": {},
   "outputs": [
    {
     "name": "stdout",
     "output_type": "stream",
     "text": [
      "[('Providers',), ('Receivers',), ('Food_Listings',), ('Claims',)]\n"
     ]
    }
   ],
   "source": [
    "import sqlite3\n",
    "\n",
    "conn = sqlite3.connect(\"food_waste_management.db\")  # Replace with your actual database name\n",
    "cursor = conn.cursor()\n",
    "\n",
    "cursor.execute(\"SELECT name FROM sqlite_master WHERE type='table';\")\n",
    "tables = cursor.fetchall()\n",
    "print(tables)\n",
    "conn.close()"
   ]
  }
 ],
 "metadata": {
  "kernelspec": {
   "display_name": "food_waste",
   "language": "python",
   "name": "python3"
  },
  "language_info": {
   "codemirror_mode": {
    "name": "ipython",
    "version": 3
   },
   "file_extension": ".py",
   "mimetype": "text/x-python",
   "name": "python",
   "nbconvert_exporter": "python",
   "pygments_lexer": "ipython3",
   "version": "3.12.9"
  }
 },
 "nbformat": 4,
 "nbformat_minor": 2
}
